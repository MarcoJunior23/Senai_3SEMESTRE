{
 "cells": [
  {
   "cell_type": "code",
   "execution_count": 1,
   "metadata": {},
   "outputs": [
    {
     "name": "stderr",
     "output_type": "stream",
     "text": [
      "C:\\Users\\Marco\\AppData\\Local\\Packages\\PythonSoftwareFoundation.Python.3.11_qbz5n2kfra8p0\\LocalCache\\local-packages\\Python311\\site-packages\\tqdm\\auto.py:21: TqdmWarning: IProgress not found. Please update jupyter and ipywidgets. See https://ipywidgets.readthedocs.io/en/stable/user_install.html\n",
      "  from .autonotebook import tqdm as notebook_tqdm\n"
     ]
    },
    {
     "name": "stdout",
     "output_type": "stream",
     "text": [
      "* Running on local URL:  http://127.0.0.1:7860\n",
      "\n",
      "To create a public link, set `share=True` in `launch()`.\n"
     ]
    },
    {
     "data": {
      "text/html": [
       "<div><iframe src=\"http://127.0.0.1:7860/\" width=\"100%\" height=\"500\" allow=\"autoplay; camera; microphone; clipboard-read; clipboard-write;\" frameborder=\"0\" allowfullscreen></iframe></div>"
      ],
      "text/plain": [
       "<IPython.core.display.HTML object>"
      ]
     },
     "metadata": {},
     "output_type": "display_data"
    }
   ],
   "source": [
    "import os  # biblioteca para interagir com o sistema operacional\n",
    "import gradio as gr  # importa a biblioteca Gradio para criar interface web\n",
    "from groq import Groq  # importa a biblioteca Groq para interagir com a API Groq\n",
    "\n",
    "# Define a chave da API Groq\n",
    "GROQ_API_KEY = os.getenv('GROQ_API_KEY', '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')\n",
    "\n",
    "# Inicializa o cliente da API Groq\n",
    "client = Groq(api_key=GROQ_API_KEY)\n",
    "\n",
    "# Função para processar a entrada de dados pelo usuário e gerar resposta\n",
    "def assistente_agricultura(user_prompt):\n",
    "    if user_prompt.strip() == \"15\":\n",
    "        return \"Encerrando assistente Agro! Até mais!!\"\n",
    "    \n",
    "    # Faz a solicitação para o modelo LLM\n",
    "    completion = client.chat.completions.create(\n",
    "        model=\"llama-3.2-3b-preview\",\n",
    "        messages=[\n",
    "            {\n",
    "                \"role\": \"system\", \"content\": \"Você é um assistente especializado em agricultura\"\n",
    "            },\n",
    "            {\"role\": \"user\", \"content\": user_prompt}\n",
    "        ],\n",
    "        temperature=0.7,  # Alterado para um valor mais alto\n",
    "        max_tokens=1024,\n",
    "        top_p=1,\n",
    "        stream=False\n",
    "    )\n",
    "\n",
    "    # Retorna a resposta do assistente\n",
    "    return completion.choices[0].message.content\n",
    "\n",
    "# Configura a interface do Gradio\n",
    "iface = gr.Interface(\n",
    "    fn=assistente_agricultura,\n",
    "    inputs=gr.Textbox(lines=2, placeholder=\"Digite sua pergunta sobre agricultura\"),\n",
    "    outputs=\"text\",\n",
    "    title=\"Assistente de Agro IA🤠\",\n",
    "    description=\"Digite sua pergunta sobre agricultura e receba respostas da IA especialista\",\n",
    "    live=True\n",
    ")\n",
    "\n",
    "# Executa a interface web\n",
    "if __name__ == \"__main__\":\n",
    "    iface.launch()"
   ]
  }
 ],
 "metadata": {
  "kernelspec": {
   "display_name": "Python 3",
   "language": "python",
   "name": "python3"
  },
  "language_info": {
   "codemirror_mode": {
    "name": "ipython",
    "version": 3
   },
   "file_extension": ".py",
   "mimetype": "text/x-python",
   "name": "python",
   "nbconvert_exporter": "python",
   "pygments_lexer": "ipython3",
   "version": "3.11.9"
  }
 },
 "nbformat": 4,
 "nbformat_minor": 2
}
