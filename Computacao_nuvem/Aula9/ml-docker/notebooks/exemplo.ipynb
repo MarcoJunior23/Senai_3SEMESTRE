{
 "cells": [
  {
   "cell_type": "code",
   "execution_count": null,
   "metadata": {
    "vscode": {
     "languageId": "plaintext"
    }
   },
   "outputs": [],
   "source": [
    "C:\\Users\\dsadm\\Desktop\\Marco\\Senai_3SEMESTRE\\Computacao_nuvem\\Aula9\\ml-docker"
   ]
  }
 ],
 "metadata": {
  "language_info": {
   "name": "python"
  }
 },
 "nbformat": 4,
 "nbformat_minor": 2
}
